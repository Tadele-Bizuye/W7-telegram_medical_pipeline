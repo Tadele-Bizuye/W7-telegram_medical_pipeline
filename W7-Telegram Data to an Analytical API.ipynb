{
 "cells": [
  {
   "cell_type": "markdown",
   "id": "a5f8353b",
   "metadata": {},
   "source": []
  },
  {
   "cell_type": "markdown",
   "id": "775402d7",
   "metadata": {},
   "source": [
    "### Task 1: Data Scraping and Collection"
   ]
  },
  {
   "cell_type": "code",
   "execution_count": 9,
   "id": "62a1d9a9",
   "metadata": {},
   "outputs": [
    {
     "ename": "TypeError",
     "evalue": "int() argument must be a string, a bytes-like object or a real number, not 'NoneType'",
     "output_type": "error",
     "traceback": [
      "\u001b[1;31m---------------------------------------------------------------------------\u001b[0m",
      "\u001b[1;31mTypeError\u001b[0m                                 Traceback (most recent call last)",
      "Cell \u001b[1;32mIn[9], line 10\u001b[0m\n\u001b[0;32m      7\u001b[0m load_dotenv()\n\u001b[0;32m      9\u001b[0m \u001b[38;5;66;03m# Correct: use variable names from .env\u001b[39;00m\n\u001b[1;32m---> 10\u001b[0m api_id \u001b[38;5;241m=\u001b[39m \u001b[38;5;28;43mint\u001b[39;49m\u001b[43m(\u001b[49m\u001b[43mos\u001b[49m\u001b[38;5;241;43m.\u001b[39;49m\u001b[43mgetenv\u001b[49m\u001b[43m(\u001b[49m\u001b[38;5;124;43m\"\u001b[39;49m\u001b[38;5;124;43m25337480\u001b[39;49m\u001b[38;5;124;43m\"\u001b[39;49m\u001b[43m)\u001b[49m\u001b[43m)\u001b[49m\n\u001b[0;32m     11\u001b[0m api_hash \u001b[38;5;241m=\u001b[39m os\u001b[38;5;241m.\u001b[39mgetenv(\u001b[38;5;124m\"\u001b[39m\u001b[38;5;124ma821876b08345489145ae2b38511fe20\u001b[39m\u001b[38;5;124m\"\u001b[39m)\n\u001b[0;32m     12\u001b[0m phone \u001b[38;5;241m=\u001b[39m os\u001b[38;5;241m.\u001b[39mgetenv(\u001b[38;5;124m\"\u001b[39m\u001b[38;5;124m+251970777516\u001b[39m\u001b[38;5;124m\"\u001b[39m)\n",
      "\u001b[1;31mTypeError\u001b[0m: int() argument must be a string, a bytes-like object or a real number, not 'NoneType'"
     ]
    }
   ],
   "source": [
    "from telethon.sync import TelegramClient\n",
    "from telethon.tl.types import MessageMediaPhoto\n",
    "from dotenv import load_dotenv\n",
    "import os, json, datetime\n",
    "\n",
    "# Load environment variables\n",
    "load_dotenv()\n",
    "\n",
    "# Correct: use variable names from .env\n",
    "api_id = int(os.getenv(\"25337480\"))\n",
    "api_hash = os.getenv(\"a821876b08345489145ae2b38511fe20\")\n",
    "phone = os.getenv(\"+251970777516\")\n",
    "\n",
    "# Initialize client\n",
    "client = TelegramClient('session_name', api_id, api_hash)\n",
    "\n",
    "channels = ['https://t.me/lobelia4cosmetics', 'https://t.me/tikvahpharma']\n",
    "date_str = datetime.datetime.now().strftime('%Y-%m-%d')\n",
    "\n",
    "async def scrape():\n",
    "    await client.start(phone=phone)\n",
    "    for url in channels:\n",
    "        messages = []\n",
    "        entity = await client.get_entity(url)\n",
    "        async for msg in client.iter_messages(entity, limit=1000):\n",
    "            messages.append(msg.to_dict())\n",
    "\n",
    "        os.makedirs(f'data/raw/{date_str}', exist_ok=True)\n",
    "        with open(f'data/raw/{date_str}/{url.split(\"/\")[-1]}.json', 'w') as f:\n",
    "            json.dump(messages, f, indent=2)\n",
    "\n",
    "client.loop.run_until_complete(scrape())"
   ]
  },
  {
   "cell_type": "code",
   "execution_count": null,
   "id": "453de9c3",
   "metadata": {},
   "outputs": [],
   "source": []
  }
 ],
 "metadata": {
  "kernelspec": {
   "display_name": "Python 3",
   "language": "python",
   "name": "python3"
  },
  "language_info": {
   "codemirror_mode": {
    "name": "ipython",
    "version": 3
   },
   "file_extension": ".py",
   "mimetype": "text/x-python",
   "name": "python",
   "nbconvert_exporter": "python",
   "pygments_lexer": "ipython3",
   "version": "3.12.7"
  }
 },
 "nbformat": 4,
 "nbformat_minor": 5
}
